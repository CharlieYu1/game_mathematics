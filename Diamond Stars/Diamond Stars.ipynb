{
 "cells": [
  {
   "cell_type": "markdown",
   "id": "3c8fd690",
   "metadata": {},
   "source": [
    "# Analysis of Diamond Stars game from Pokerstars"
   ]
  },
  {
   "cell_type": "markdown",
   "id": "971ccef5",
   "metadata": {},
   "source": [
    "![Diamond Stars](diamond-stars.png)"
   ]
  },
  {
   "cell_type": "markdown",
   "id": "c461880f",
   "metadata": {},
   "source": [
    "Diamond Stars is one of the most popular slots game on Pokerstars. In this notebook, I'll analyse the payout table and attempt to recreate the reel details of Diamond Stars. The RTP as stated is 91.97% plus 1.16% for jackpot."
   ]
  },
  {
   "cell_type": "markdown",
   "id": "92168df7",
   "metadata": {},
   "source": [
    "## Payout tables in Game"
   ]
  },
  {
   "cell_type": "markdown",
   "id": "585a8f81",
   "metadata": {},
   "source": [
    "![payout-1](payout-1.png)"
   ]
  },
  {
   "cell_type": "markdown",
   "id": "677c1618",
   "metadata": {},
   "source": [
    "![payout-2](payout-2.png)"
   ]
  },
  {
   "cell_type": "code",
   "execution_count": null,
   "id": "2aeefbfb",
   "metadata": {},
   "outputs": [],
   "source": []
  },
  {
   "cell_type": "markdown",
   "id": "7c9f81ab-ce33-47ce-a18a-3e968f5d8fdb",
   "metadata": {},
   "source": [
    "Let's start with 3 reels. I put a 2x and 3x wild on the first reel, a 4x wild on the second reel, and a 5x reel on the third reel. Then I fill the remaining symbols table with estimation. There are 100 symbols on each reel, which is a common setup."
   ]
  },
  {
   "cell_type": "code",
   "execution_count": 1,
   "id": "4e39fb8e",
   "metadata": {},
   "outputs": [],
   "source": [
    "# define the reels using a list of 3 dictionaries, each dictionary representing a reel\n",
    "reels = [\n",
    "    {\n",
    "        'wild-5': 0,\n",
    "        'wild-4': 0,\n",
    "        'wild-3': 1,\n",
    "        'wild-2': 1,\n",
    "        'logo-red': 3,\n",
    "        'logo-blue': 5,\n",
    "        'bar-3': 8,\n",
    "        'bar-2': 16,\n",
    "        'bar-1': 24,\n",
    "        'cherry': 42\n",
    "    },\n",
    "    {\n",
    "        'wild-5': 0,\n",
    "        'wild-4': 1,\n",
    "        'wild-3': 0,\n",
    "        'wild-2': 0,\n",
    "        'logo-red': 3,\n",
    "        'logo-blue': 5,\n",
    "        'bar-3': 8,\n",
    "        'bar-2': 16,\n",
    "        'bar-1': 24,\n",
    "        'cherry': 43\n",
    "    },\n",
    "    {\n",
    "        'wild-5': 1,\n",
    "        'wild-4': 0,\n",
    "        'wild-3': 0,\n",
    "        'wild-2': 0,\n",
    "        'logo-red': 3,\n",
    "        'logo-blue': 5,\n",
    "        'bar-3': 8,\n",
    "        'bar-2': 16,\n",
    "        'bar-1': 24,\n",
    "        'cherry': 43\n",
    "    }\n",
    "]"
   ]
  },
  {
   "cell_type": "code",
   "execution_count": 2,
   "id": "f57efb47",
   "metadata": {},
   "outputs": [],
   "source": [
    "# assert every reel has exactly 100 possible outcomes\n",
    "for reel in reels:\n",
    "    assert sum(reel[logo] for logo in reel) == 100"
   ]
  },
  {
   "cell_type": "code",
   "execution_count": null,
   "id": "abcaf178",
   "metadata": {},
   "outputs": [],
   "source": []
  },
  {
   "cell_type": "markdown",
   "id": "6ba35f46-e28f-41c4-b39e-4e885a5dfc80",
   "metadata": {},
   "source": [
    "We will make a few helper functions to help us to calculate the payouts. The first helper function calculates the amount of payout with all three symbols being wilds on each payline. The event of hitting a wild on each reel is an independent event and we could take advantage of this."
   ]
  },
  {
   "cell_type": "code",
   "execution_count": 3,
   "id": "6f705ec2",
   "metadata": {},
   "outputs": [],
   "source": [
    "# helper function to calculate adjusted payout for three wilds\n",
    "def calculate_payout_three_wilds(wild_payout=300):\n",
    "    current_multiplier = 1\n",
    "    # each reel can be considered independently\n",
    "    for reel in reels:\n",
    "        # add the sum of products of each wild multiplier by its frequencies\n",
    "        current_multiplier *= sum(i * reel[f'wild-{i}'] for i in (2, 3, 4, 5))\n",
    "    return current_multiplier * wild_payout"
   ]
  },
  {
   "cell_type": "code",
   "execution_count": 4,
   "id": "0866ba90",
   "metadata": {},
   "outputs": [
    {
     "data": {
      "text/plain": [
       "30000"
      ]
     },
     "execution_count": 4,
     "metadata": {},
     "output_type": "execute_result"
    }
   ],
   "source": [
    "calculate_payout_three_wilds()"
   ]
  },
  {
   "cell_type": "code",
   "execution_count": null,
   "id": "0ea2177c",
   "metadata": {},
   "outputs": [],
   "source": []
  },
  {
   "cell_type": "markdown",
   "id": "91d74ab2-abdd-475c-9456-5a657383b761",
   "metadata": {},
   "source": [
    "Then we would write the payout function for each symbol. A payline including either the desirable symbol or the wild symbols would work, but at least one symbol on the payline should not be wild. A single function would do the job, we just need to call the function with different symbols and payouts as parameters."
   ]
  },
  {
   "cell_type": "code",
   "execution_count": 5,
   "id": "4b1d53a6",
   "metadata": {},
   "outputs": [],
   "source": [
    "# helper function to calculate adjusted payout for a particular symbol, including possible wilds\n",
    "def calculate_payout_by_symbol_or_wild(symbol, symbol_payout):\n",
    "    hits = (symbol, 'wild-2', 'wild-3', 'wild-4', 'wild-5')\n",
    "    payout_multiplier_sum = 0\n",
    "    for reel0_symbol in hits:\n",
    "        for reel1_symbol in hits:\n",
    "            for reel2_symbol in hits:\n",
    "                # must not be all wilds\n",
    "                if symbol not in (reel0_symbol, reel1_symbol, reel2_symbol):\n",
    "                    continue\n",
    "                    \n",
    "                current_multiplier = 1\n",
    "                if reel0_symbol[:4] == 'wild':\n",
    "                    current_multiplier *= int(reel0_symbol[5])\n",
    "                if reel1_symbol[:4] == 'wild':\n",
    "                    current_multiplier *= int(reel1_symbol[5])\n",
    "                if reel2_symbol[:4] == 'wild':\n",
    "                    current_multiplier *= int(reel2_symbol[5])\n",
    "\n",
    "                # calculate the number of possibilites of hitting this particular combination\n",
    "                num_possibilities = reels[0][reel0_symbol] * reels[1][reel1_symbol] * reels[2][reel2_symbol]\n",
    "                payout_multiplier_sum += num_possibilities * current_multiplier\n",
    "                \n",
    "                # print combination for checking\n",
    "#                 if num_possibilities > 0:\n",
    "#                     print(reel0_symbol, reel1_symbol, reel2_symbol)\n",
    "#                     print(f\"{num_possibilities=} {current_multiplier=}\")\n",
    "    \n",
    "    return payout_multiplier_sum * symbol_payout\n",
    "                   \n"
   ]
  },
  {
   "cell_type": "code",
   "execution_count": 6,
   "id": "5ef6e65a",
   "metadata": {},
   "outputs": [
    {
     "name": "stdout",
     "output_type": "stream",
     "text": [
      "calculate_payout_by_symbol_or_wild('logo-red', 100)=34800\n",
      "\n",
      "calculate_payout_by_symbol_or_wild('logo-blue', 50)=40000\n",
      "\n",
      "calculate_payout_by_symbol_or_wild('bar-3', 40)=77120\n",
      "\n",
      "calculate_payout_by_symbol_or_wild('bar-2', 20)=174400\n",
      "\n",
      "calculate_payout_by_symbol_or_wild('bar-1', 10)=234480\n",
      "\n",
      "calculate_payout_by_symbol_or_wild('cherry', 6)=635592\n",
      "\n"
     ]
    }
   ],
   "source": [
    "print(f\"{calculate_payout_by_symbol_or_wild('logo-red', 100)=}\")\n",
    "print(f\"{calculate_payout_by_symbol_or_wild('logo-blue', 50)=}\")\n",
    "print(f\"{calculate_payout_by_symbol_or_wild('bar-3', 40)=}\")\n",
    "print(f\"{calculate_payout_by_symbol_or_wild('bar-2', 20)=}\")\n",
    "print(f\"{calculate_payout_by_symbol_or_wild('bar-1', 10)=}\")\n",
    "print(f\"{calculate_payout_by_symbol_or_wild('cherry', 6)=}\")"
   ]
  },
  {
   "cell_type": "code",
   "execution_count": null,
   "id": "630da8d8",
   "metadata": {},
   "outputs": [],
   "source": []
  },
  {
   "cell_type": "markdown",
   "id": "9546bf3b-43a4-490c-a50b-9a5dfeb0fee0",
   "metadata": {},
   "source": [
    "Next it comes the mixed logo, and mixed bar. A payline should include at least two different logos or two bars to qualify for the awards. This can be implemented by modifying the previous payout functions."
   ]
  },
  {
   "cell_type": "code",
   "execution_count": 7,
   "id": "e0b9f13b",
   "metadata": {},
   "outputs": [],
   "source": [
    "# helper function to calculate adjusted payout for a particular symbol, including possible wilds\n",
    "def calculate_payout_mixed_logo_or_wild(mixed_logo_payout=4):\n",
    "    hits = ('logo-red', 'logo-blue', 'wild-2', 'wild-3', 'wild-4', 'wild-5')\n",
    "    payout_multiplier_sum = 0\n",
    "    for reel0_symbol in hits:\n",
    "        for reel1_symbol in hits:\n",
    "            for reel2_symbol in hits:\n",
    "                # at least two different logos are present\n",
    "                if 'logo-red' not in (reel0_symbol, reel1_symbol, reel2_symbol) or \\\n",
    "                        'logo-blue' not in (reel0_symbol, reel1_symbol, reel2_symbol):\n",
    "                    continue\n",
    "                    \n",
    "                current_multiplier = 1\n",
    "                if reel0_symbol[:4] == 'wild':\n",
    "                    current_multiplier *= int(reel0_symbol[5])\n",
    "                if reel1_symbol[:4] == 'wild':\n",
    "                    current_multiplier *= int(reel1_symbol[5])\n",
    "                if reel2_symbol[:4] == 'wild':\n",
    "                    current_multiplier *= int(reel2_symbol[5])\n",
    "\n",
    "                # calculate the number of possibilites of hitting this particular combination\n",
    "                num_possibilities = reels[0][reel0_symbol] * reels[1][reel1_symbol] * reels[2][reel2_symbol]\n",
    "                payout_multiplier_sum += num_possibilities * current_multiplier\n",
    "                \n",
    "                # print combination for checking\n",
    "#                 if num_possibilities > 0:\n",
    "#                     print(reel0_symbol, reel1_symbol, reel2_symbol)\n",
    "#                     print(f\"{num_possibilities=} {current_multiplier=}\")\n",
    "    \n",
    "    return payout_multiplier_sum * mixed_logo_payout    "
   ]
  },
  {
   "cell_type": "code",
   "execution_count": 8,
   "id": "5f31d538",
   "metadata": {},
   "outputs": [
    {
     "data": {
      "text/plain": [
       "3120"
      ]
     },
     "execution_count": 8,
     "metadata": {},
     "output_type": "execute_result"
    }
   ],
   "source": [
    "calculate_payout_mixed_logo_or_wild()"
   ]
  },
  {
   "cell_type": "code",
   "execution_count": 9,
   "id": "73caf5f3",
   "metadata": {},
   "outputs": [],
   "source": [
    "# helper function to calculate adjusted payout for a particular symbol, including possible wilds\n",
    "def calculate_payout_mixed_bars_or_wild(mixed_bars_payout=2):\n",
    "    hits = ('bar-1', 'bar-2', 'bar-3', 'wild-2', 'wild-3', 'wild-4', 'wild-5')\n",
    "    payout_multiplier_sum = 0\n",
    "    for reel0_symbol in hits:\n",
    "        for reel1_symbol in hits:\n",
    "            for reel2_symbol in hits:\n",
    "                \n",
    "                reel_symbols = [reel0_symbol, reel1_symbol, reel2_symbol]\n",
    "                # at least two different bars are present\n",
    "                if ('bar-1' in reel_symbols) + ('bar-2' in reel_symbols) + ('bar-3' in reel_symbols) < 2:\n",
    "                    continue\n",
    "                    \n",
    "                current_multiplier = 1\n",
    "                if reel0_symbol[:4] == 'wild':\n",
    "                    current_multiplier *= int(reel0_symbol[5])\n",
    "                if reel1_symbol[:4] == 'wild':\n",
    "                    current_multiplier *= int(reel1_symbol[5])\n",
    "                if reel2_symbol[:4] == 'wild':\n",
    "                    current_multiplier *= int(reel2_symbol[5])\n",
    "\n",
    "                # calculate the number of possibilites of hitting this particular combination\n",
    "                num_possibilities = reels[0][reel0_symbol] * reels[1][reel1_symbol] * reels[2][reel2_symbol]\n",
    "                payout_multiplier_sum += num_possibilities * current_multiplier\n",
    "                \n",
    "                # print combination for checking\n",
    "                # if num_possibilities > 0:\n",
    "                #     print(reel0_symbol, reel1_symbol, reel2_symbol)\n",
    "                #     print(f\"{num_possibilities=} {current_multiplier=}\")\n",
    "    \n",
    "    return payout_multiplier_sum * mixed_bars_payout   "
   ]
  },
  {
   "cell_type": "code",
   "execution_count": 10,
   "id": "59114cbf",
   "metadata": {},
   "outputs": [
    {
     "data": {
      "text/plain": [
       "223744"
      ]
     },
     "execution_count": 10,
     "metadata": {},
     "output_type": "execute_result"
    }
   ],
   "source": [
    "calculate_payout_mixed_bars_or_wild()"
   ]
  },
  {
   "cell_type": "code",
   "execution_count": null,
   "id": "677ace48",
   "metadata": {},
   "outputs": [],
   "source": []
  },
  {
   "cell_type": "markdown",
   "id": "0685ba35-8d61-40f7-83c0-fed5df1e99ee",
   "metadata": {},
   "source": [
    "Finally, let's calculate RTP (Return to Player). A slots game with RTP < 1 (100%) would be profitable to the game host."
   ]
  },
  {
   "cell_type": "code",
   "execution_count": 11,
   "id": "109e0ce0",
   "metadata": {},
   "outputs": [],
   "source": [
    "# helper function to calculate RTP\n",
    "def calculate_RTP():\n",
    "    # 3 reels of 100 possiblities each\n",
    "    base_num_possibilities = 100 * 100 * 100\n",
    "    \n",
    "    return sum([\n",
    "        calculate_payout_three_wilds(wild_payout=300),\n",
    "        calculate_payout_by_symbol_or_wild('logo-red', 100),\n",
    "        calculate_payout_by_symbol_or_wild('logo-blue', 50),\n",
    "        calculate_payout_by_symbol_or_wild('bar-3', 40),\n",
    "        calculate_payout_by_symbol_or_wild('bar-2', 20),\n",
    "        calculate_payout_by_symbol_or_wild('bar-1', 10),\n",
    "        calculate_payout_by_symbol_or_wild('cherry', 6),\n",
    "        calculate_payout_mixed_logo_or_wild(mixed_logo_payout=4),\n",
    "        calculate_payout_mixed_bars_or_wild(mixed_bars_payout=2)\n",
    "    ]) / base_num_possibilities"
   ]
  },
  {
   "cell_type": "code",
   "execution_count": 12,
   "id": "fc67b6ca",
   "metadata": {},
   "outputs": [
    {
     "data": {
      "text/plain": [
       "1.453256"
      ]
     },
     "execution_count": 12,
     "metadata": {},
     "output_type": "execute_result"
    }
   ],
   "source": [
    "calculate_RTP()"
   ]
  },
  {
   "cell_type": "code",
   "execution_count": null,
   "id": "a9904491",
   "metadata": {},
   "outputs": [],
   "source": []
  },
  {
   "cell_type": "markdown",
   "id": "8949edcb-e56b-4855-a22c-fe16ab168876",
   "metadata": {},
   "source": [
    "And put everything together into a nice table."
   ]
  },
  {
   "cell_type": "code",
   "execution_count": 13,
   "id": "c3872d82",
   "metadata": {},
   "outputs": [],
   "source": [
    "# helper function to create a table for showing all the data\n",
    "def results_table():\n",
    "    import tabulate\n",
    "    data = [\n",
    "        [\"Payout Type\", \"Payout\"],\n",
    "        [\"Three Wilds\", calculate_payout_three_wilds(wild_payout=300)],\n",
    "        [\"Red Logo\", calculate_payout_by_symbol_or_wild('logo-red', 100)],\n",
    "        [\"Blue Logo\", calculate_payout_by_symbol_or_wild('logo-blue', 50)],\n",
    "        [\"Bar 3\", calculate_payout_by_symbol_or_wild('bar-3', 40)],\n",
    "        [\"Bar 2\", calculate_payout_by_symbol_or_wild('bar-2', 20)],\n",
    "        [\"Bar 1\", calculate_payout_by_symbol_or_wild('bar-1', 10)],\n",
    "        [\"Cherry\", calculate_payout_by_symbol_or_wild('cherry', 6)],\n",
    "        [\"Mixed Logos\", calculate_payout_mixed_logo_or_wild(mixed_logo_payout=4)],\n",
    "        [\"Mixed Bars\", calculate_payout_mixed_bars_or_wild(mixed_bars_payout=2)],\n",
    "        [\"\", \"\"],\n",
    "        [\"RTP\", calculate_RTP()]\n",
    "    ]\n",
    "    table = tabulate.tabulate(data, tablefmt='html')\n",
    "    return table\n",
    "\n"
   ]
  },
  {
   "cell_type": "code",
   "execution_count": 14,
   "id": "725fd1ca-2b8e-4f66-a54f-49a2e19e2b02",
   "metadata": {},
   "outputs": [
    {
     "data": {
      "text/html": [
       "<table>\n",
       "<tbody>\n",
       "<tr><td>Payout Type</td><td>Payout  </td></tr>\n",
       "<tr><td>Three Wilds</td><td>30000   </td></tr>\n",
       "<tr><td>Red Logo   </td><td>34800   </td></tr>\n",
       "<tr><td>Blue Logo  </td><td>40000   </td></tr>\n",
       "<tr><td>Bar 3      </td><td>77120   </td></tr>\n",
       "<tr><td>Bar 2      </td><td>174400  </td></tr>\n",
       "<tr><td>Bar 1      </td><td>234480  </td></tr>\n",
       "<tr><td>Cherry     </td><td>635592  </td></tr>\n",
       "<tr><td>Mixed Logos</td><td>3120    </td></tr>\n",
       "<tr><td>Mixed Bars </td><td>223744  </td></tr>\n",
       "<tr><td>           </td><td>        </td></tr>\n",
       "<tr><td>RTP        </td><td>1.453256</td></tr>\n",
       "</tbody>\n",
       "</table>"
      ],
      "text/plain": [
       "'<table>\\n<tbody>\\n<tr><td>Payout Type</td><td>Payout  </td></tr>\\n<tr><td>Three Wilds</td><td>30000   </td></tr>\\n<tr><td>Red Logo   </td><td>34800   </td></tr>\\n<tr><td>Blue Logo  </td><td>40000   </td></tr>\\n<tr><td>Bar 3      </td><td>77120   </td></tr>\\n<tr><td>Bar 2      </td><td>174400  </td></tr>\\n<tr><td>Bar 1      </td><td>234480  </td></tr>\\n<tr><td>Cherry     </td><td>635592  </td></tr>\\n<tr><td>Mixed Logos</td><td>3120    </td></tr>\\n<tr><td>Mixed Bars </td><td>223744  </td></tr>\\n<tr><td>           </td><td>        </td></tr>\\n<tr><td>RTP        </td><td>1.453256</td></tr>\\n</tbody>\\n</table>'"
      ]
     },
     "execution_count": 14,
     "metadata": {},
     "output_type": "execute_result"
    }
   ],
   "source": [
    "results_table()"
   ]
  },
  {
   "cell_type": "code",
   "execution_count": null,
   "id": "a421b28e-debf-4255-81af-1651c10ddb6b",
   "metadata": {},
   "outputs": [],
   "source": []
  },
  {
   "cell_type": "markdown",
   "id": "4451a787-d371-4a7b-88cf-9693c57ccc1c",
   "metadata": {},
   "source": [
    "Current the RTP is 145.33%, which is too high. We can see from the table that a large amount of payout comes from cherries. Red Logo, Blue Logo and Bar 3, despite being high value, is only contributing a small amount of payout. Let's revise the reels table to decrease the number of cherries and increase the number of other logos."
   ]
  },
  {
   "cell_type": "code",
   "execution_count": null,
   "id": "93471cf1-ceb3-4fda-b4cb-9475c87725bc",
   "metadata": {},
   "outputs": [],
   "source": []
  },
  {
   "cell_type": "markdown",
   "id": "e779635e-dbbb-4a03-bec1-245fc4c65e47",
   "metadata": {},
   "source": [
    "Here is a new symbols table for a possible setup of reels. The number of cherries are decreased significantly while the number of other symbols are increased a bit."
   ]
  },
  {
   "cell_type": "code",
   "execution_count": 15,
   "id": "4700c5dd-cc4f-4d4a-b465-12e4d53be066",
   "metadata": {},
   "outputs": [],
   "source": [
    "reels = [\n",
    "    {\n",
    "        'wild-5': 0,\n",
    "        'wild-4': 0,\n",
    "        'wild-3': 1,\n",
    "        'wild-2': 1,\n",
    "        'logo-red': 8,\n",
    "        'logo-blue': 13,\n",
    "        'bar-3': 12,\n",
    "        'bar-2': 16,\n",
    "        'bar-1': 22,\n",
    "        'cherry': 27\n",
    "    },\n",
    "    {\n",
    "        'wild-5': 0,\n",
    "        'wild-4': 1,\n",
    "        'wild-3': 0,\n",
    "        'wild-2': 0,\n",
    "        'logo-red': 8,\n",
    "        'logo-blue': 13,\n",
    "        'bar-3': 12,\n",
    "        'bar-2': 16,\n",
    "        'bar-1': 22,\n",
    "        'cherry': 28\n",
    "    },\n",
    "    {\n",
    "        'wild-5': 1,\n",
    "        'wild-4': 0,\n",
    "        'wild-3': 0,\n",
    "        'wild-2': 0,\n",
    "        'logo-red': 8,\n",
    "        'logo-blue': 13,\n",
    "        'bar-3': 12,\n",
    "        'bar-2': 16,\n",
    "        'bar-1': 22,\n",
    "        'cherry': 28\n",
    "    }\n",
    "]\n",
    "\n",
    "# assert every reel has exactly 100 possible outcomes\n",
    "for reel in reels:\n",
    "    assert sum(reel[logo] for logo in reel) == 100"
   ]
  },
  {
   "cell_type": "code",
   "execution_count": null,
   "id": "d5341ece-bc3f-442b-828e-de90a10debfd",
   "metadata": {},
   "outputs": [],
   "source": []
  },
  {
   "cell_type": "markdown",
   "id": "5606fa5f-9894-407b-9002-8c38e66030f6",
   "metadata": {},
   "source": [
    "Let's display the information of the reels in a table as well."
   ]
  },
  {
   "cell_type": "code",
   "execution_count": 16,
   "id": "e2be9c5e-19c7-4609-83a1-6f103dbf7b7f",
   "metadata": {},
   "outputs": [],
   "source": [
    "# helper function to create a table for showing the number of symbols on each reel\n",
    "def reels_table():\n",
    "    import tabulate\n",
    "    data = [\n",
    "        [\"Reel #\", 0, 1, 2],\n",
    "        [\"5x Whild\", reels[0]['wild-5'], reels[1]['wild-5'], reels[2]['wild-5']],\n",
    "        [\"4x Whild\", reels[0]['wild-4'], reels[1]['wild-4'], reels[2]['wild-4']],\n",
    "        [\"3x Whild\", reels[0]['wild-3'], reels[1]['wild-3'], reels[2]['wild-3']],\n",
    "        [\"2x Whild\", reels[0]['wild-2'], reels[1]['wild-2'], reels[2]['wild-2']],\n",
    "        [\"Red Logo\", reels[0]['logo-red'], reels[1]['logo-red'], reels[2]['logo-red']],\n",
    "        [\"Blue Logo\", reels[0]['logo-blue'], reels[1]['logo-blue'], reels[2]['logo-blue']],\n",
    "        [\"Bar 3\", reels[0]['bar-3'], reels[1]['bar-3'], reels[2]['bar-3']],\n",
    "        [\"Bar 2\", reels[0]['bar-2'], reels[1]['bar-2'], reels[2]['bar-2']],\n",
    "        [\"Bar 1\", reels[0]['bar-1'], reels[1]['bar-1'], reels[2]['bar-1']],\n",
    "        [\"Cherry\",  reels[0]['cherry'], reels[1]['cherry'], reels[2]['cherry']],\n",
    "        [\"Total\", 100, 100, 100]\n",
    "    ]\n",
    "    table = tabulate.tabulate(data, tablefmt='html')\n",
    "    return table"
   ]
  },
  {
   "cell_type": "code",
   "execution_count": 17,
   "id": "dd33cc8f-5249-4854-87f4-16b835dc5b2d",
   "metadata": {},
   "outputs": [
    {
     "data": {
      "text/html": [
       "<table>\n",
       "<tbody>\n",
       "<tr><td>Reel #   </td><td style=\"text-align: right;\">  0</td><td style=\"text-align: right;\">  1</td><td style=\"text-align: right;\">  2</td></tr>\n",
       "<tr><td>5x Whild </td><td style=\"text-align: right;\">  0</td><td style=\"text-align: right;\">  0</td><td style=\"text-align: right;\">  1</td></tr>\n",
       "<tr><td>4x Whild </td><td style=\"text-align: right;\">  0</td><td style=\"text-align: right;\">  1</td><td style=\"text-align: right;\">  0</td></tr>\n",
       "<tr><td>3x Whild </td><td style=\"text-align: right;\">  1</td><td style=\"text-align: right;\">  0</td><td style=\"text-align: right;\">  0</td></tr>\n",
       "<tr><td>2x Whild </td><td style=\"text-align: right;\">  1</td><td style=\"text-align: right;\">  0</td><td style=\"text-align: right;\">  0</td></tr>\n",
       "<tr><td>Red Logo </td><td style=\"text-align: right;\">  8</td><td style=\"text-align: right;\">  8</td><td style=\"text-align: right;\">  8</td></tr>\n",
       "<tr><td>Blue Logo</td><td style=\"text-align: right;\"> 13</td><td style=\"text-align: right;\"> 13</td><td style=\"text-align: right;\"> 13</td></tr>\n",
       "<tr><td>Bar 3    </td><td style=\"text-align: right;\"> 12</td><td style=\"text-align: right;\"> 12</td><td style=\"text-align: right;\"> 12</td></tr>\n",
       "<tr><td>Bar 2    </td><td style=\"text-align: right;\"> 16</td><td style=\"text-align: right;\"> 16</td><td style=\"text-align: right;\"> 16</td></tr>\n",
       "<tr><td>Bar 1    </td><td style=\"text-align: right;\"> 22</td><td style=\"text-align: right;\"> 22</td><td style=\"text-align: right;\"> 22</td></tr>\n",
       "<tr><td>Cherry   </td><td style=\"text-align: right;\"> 27</td><td style=\"text-align: right;\"> 28</td><td style=\"text-align: right;\"> 28</td></tr>\n",
       "<tr><td>Total    </td><td style=\"text-align: right;\">100</td><td style=\"text-align: right;\">100</td><td style=\"text-align: right;\">100</td></tr>\n",
       "</tbody>\n",
       "</table>"
      ],
      "text/plain": [
       "'<table>\\n<tbody>\\n<tr><td>Reel #   </td><td style=\"text-align: right;\">  0</td><td style=\"text-align: right;\">  1</td><td style=\"text-align: right;\">  2</td></tr>\\n<tr><td>5x Whild </td><td style=\"text-align: right;\">  0</td><td style=\"text-align: right;\">  0</td><td style=\"text-align: right;\">  1</td></tr>\\n<tr><td>4x Whild </td><td style=\"text-align: right;\">  0</td><td style=\"text-align: right;\">  1</td><td style=\"text-align: right;\">  0</td></tr>\\n<tr><td>3x Whild </td><td style=\"text-align: right;\">  1</td><td style=\"text-align: right;\">  0</td><td style=\"text-align: right;\">  0</td></tr>\\n<tr><td>2x Whild </td><td style=\"text-align: right;\">  1</td><td style=\"text-align: right;\">  0</td><td style=\"text-align: right;\">  0</td></tr>\\n<tr><td>Red Logo </td><td style=\"text-align: right;\">  8</td><td style=\"text-align: right;\">  8</td><td style=\"text-align: right;\">  8</td></tr>\\n<tr><td>Blue Logo</td><td style=\"text-align: right;\"> 13</td><td style=\"text-align: right;\"> 13</td><td style=\"text-align: right;\"> 13</td></tr>\\n<tr><td>Bar 3    </td><td style=\"text-align: right;\"> 12</td><td style=\"text-align: right;\"> 12</td><td style=\"text-align: right;\"> 12</td></tr>\\n<tr><td>Bar 2    </td><td style=\"text-align: right;\"> 16</td><td style=\"text-align: right;\"> 16</td><td style=\"text-align: right;\"> 16</td></tr>\\n<tr><td>Bar 1    </td><td style=\"text-align: right;\"> 22</td><td style=\"text-align: right;\"> 22</td><td style=\"text-align: right;\"> 22</td></tr>\\n<tr><td>Cherry   </td><td style=\"text-align: right;\"> 27</td><td style=\"text-align: right;\"> 28</td><td style=\"text-align: right;\"> 28</td></tr>\\n<tr><td>Total    </td><td style=\"text-align: right;\">100</td><td style=\"text-align: right;\">100</td><td style=\"text-align: right;\">100</td></tr>\\n</tbody>\\n</table>'"
      ]
     },
     "execution_count": 17,
     "metadata": {},
     "output_type": "execute_result"
    }
   ],
   "source": [
    "reels_table()"
   ]
  },
  {
   "cell_type": "code",
   "execution_count": null,
   "id": "4b7b7f8a-4845-45b3-8753-eda95d117647",
   "metadata": {},
   "outputs": [],
   "source": []
  },
  {
   "cell_type": "markdown",
   "id": "06726f41-4674-4a3e-a235-0d9c54e867cb",
   "metadata": {},
   "source": [
    "And calculate the RTP table again."
   ]
  },
  {
   "cell_type": "code",
   "execution_count": 18,
   "id": "6d5a9f5f-fbb1-4e4f-b429-8fec47334761",
   "metadata": {},
   "outputs": [
    {
     "data": {
      "text/html": [
       "<table>\n",
       "<tbody>\n",
       "<tr><td>Payout Type</td><td>Payout  </td></tr>\n",
       "<tr><td>Three Wilds</td><td>30000   </td></tr>\n",
       "<tr><td>Red Logo   </td><td>192800  </td></tr>\n",
       "<tr><td>Blue Logo  </td><td>270400  </td></tr>\n",
       "<tr><td>Bar 3      </td><td>180960  </td></tr>\n",
       "<tr><td>Bar 2      </td><td>174400  </td></tr>\n",
       "<tr><td>Bar 1      </td><td>188540  </td></tr>\n",
       "<tr><td>Cherry     </td><td>202152  </td></tr>\n",
       "<tr><td>Mixed Logos</td><td>37856   </td></tr>\n",
       "<tr><td>Mixed Bars </td><td>262304  </td></tr>\n",
       "<tr><td>           </td><td>        </td></tr>\n",
       "<tr><td>RTP        </td><td>1.539412</td></tr>\n",
       "</tbody>\n",
       "</table>"
      ],
      "text/plain": [
       "'<table>\\n<tbody>\\n<tr><td>Payout Type</td><td>Payout  </td></tr>\\n<tr><td>Three Wilds</td><td>30000   </td></tr>\\n<tr><td>Red Logo   </td><td>192800  </td></tr>\\n<tr><td>Blue Logo  </td><td>270400  </td></tr>\\n<tr><td>Bar 3      </td><td>180960  </td></tr>\\n<tr><td>Bar 2      </td><td>174400  </td></tr>\\n<tr><td>Bar 1      </td><td>188540  </td></tr>\\n<tr><td>Cherry     </td><td>202152  </td></tr>\\n<tr><td>Mixed Logos</td><td>37856   </td></tr>\\n<tr><td>Mixed Bars </td><td>262304  </td></tr>\\n<tr><td>           </td><td>        </td></tr>\\n<tr><td>RTP        </td><td>1.539412</td></tr>\\n</tbody>\\n</table>'"
      ]
     },
     "execution_count": 18,
     "metadata": {},
     "output_type": "execute_result"
    }
   ],
   "source": [
    "results_table()"
   ]
  },
  {
   "cell_type": "code",
   "execution_count": null,
   "id": "0805e703-ccdc-4fe6-afe5-96224c468666",
   "metadata": {},
   "outputs": [],
   "source": []
  },
  {
   "cell_type": "markdown",
   "id": "f00e57d5-0758-4deb-b87d-1c4b796901ce",
   "metadata": {},
   "source": [
    "This time it is even worse. Maybe a roughly equal chance of hitting a symbol on each reel is not a good idea."
   ]
  },
  {
   "cell_type": "markdown",
   "id": "1f681de0-a235-4c79-acdc-2370e4bf5b8e",
   "metadata": {},
   "source": [
    "Let's try something different. What if the symbols of each kind are more concentrated in one or two reels?"
   ]
  },
  {
   "cell_type": "code",
   "execution_count": null,
   "id": "0699b794-4ceb-4d9a-93ef-ff9f8260bb43",
   "metadata": {},
   "outputs": [],
   "source": []
  },
  {
   "cell_type": "code",
   "execution_count": 19,
   "id": "a3885112-4518-4973-b2dd-40c44a27c4cc",
   "metadata": {},
   "outputs": [],
   "source": [
    "reels = [\n",
    "    {\n",
    "        'wild-5': 0,\n",
    "        'wild-4': 0,\n",
    "        'wild-3': 1,\n",
    "        'wild-2': 1,\n",
    "        'logo-red': 2,\n",
    "        'logo-blue': 3,\n",
    "        'bar-3': 7,\n",
    "        'bar-2': 7,\n",
    "        'bar-1': 60,\n",
    "        'cherry': 19\n",
    "    },\n",
    "    {\n",
    "        'wild-5': 0,\n",
    "        'wild-4': 1,\n",
    "        'wild-3': 0,\n",
    "        'wild-2': 0,\n",
    "        'logo-red': 4,\n",
    "        'logo-blue': 7,\n",
    "        'bar-3': 5,\n",
    "        'bar-2': 30,\n",
    "        'bar-1': 6,\n",
    "        'cherry': 47\n",
    "    },\n",
    "    {\n",
    "        'wild-5': 1,\n",
    "        'wild-4': 0,\n",
    "        'wild-3': 0,\n",
    "        'wild-2': 0,\n",
    "        'logo-red': 18,\n",
    "        'logo-blue': 23,\n",
    "        'bar-3': 15,\n",
    "        'bar-2': 6,\n",
    "        'bar-1': 8,\n",
    "        'cherry': 29\n",
    "    }\n",
    "]\n",
    "\n",
    "# assert every reel has exactly 100 possible outcomes\n",
    "for reel in reels:\n",
    "    assert sum(reel[logo] for logo in reel) == 100"
   ]
  },
  {
   "cell_type": "code",
   "execution_count": null,
   "id": "5f07631f-0fff-4f54-b7c4-d3dfbac0aaa7",
   "metadata": {},
   "outputs": [],
   "source": []
  },
  {
   "cell_type": "code",
   "execution_count": 20,
   "id": "eed9880b-fa64-4e32-ac57-85b9355abf0d",
   "metadata": {},
   "outputs": [
    {
     "data": {
      "text/html": [
       "<table>\n",
       "<tbody>\n",
       "<tr><td>Reel #   </td><td style=\"text-align: right;\">  0</td><td style=\"text-align: right;\">  1</td><td style=\"text-align: right;\">  2</td></tr>\n",
       "<tr><td>5x Whild </td><td style=\"text-align: right;\">  0</td><td style=\"text-align: right;\">  0</td><td style=\"text-align: right;\">  1</td></tr>\n",
       "<tr><td>4x Whild </td><td style=\"text-align: right;\">  0</td><td style=\"text-align: right;\">  1</td><td style=\"text-align: right;\">  0</td></tr>\n",
       "<tr><td>3x Whild </td><td style=\"text-align: right;\">  1</td><td style=\"text-align: right;\">  0</td><td style=\"text-align: right;\">  0</td></tr>\n",
       "<tr><td>2x Whild </td><td style=\"text-align: right;\">  1</td><td style=\"text-align: right;\">  0</td><td style=\"text-align: right;\">  0</td></tr>\n",
       "<tr><td>Red Logo </td><td style=\"text-align: right;\">  2</td><td style=\"text-align: right;\">  4</td><td style=\"text-align: right;\"> 18</td></tr>\n",
       "<tr><td>Blue Logo</td><td style=\"text-align: right;\">  3</td><td style=\"text-align: right;\">  7</td><td style=\"text-align: right;\"> 23</td></tr>\n",
       "<tr><td>Bar 3    </td><td style=\"text-align: right;\">  7</td><td style=\"text-align: right;\">  5</td><td style=\"text-align: right;\"> 15</td></tr>\n",
       "<tr><td>Bar 2    </td><td style=\"text-align: right;\">  7</td><td style=\"text-align: right;\"> 30</td><td style=\"text-align: right;\">  6</td></tr>\n",
       "<tr><td>Bar 1    </td><td style=\"text-align: right;\"> 60</td><td style=\"text-align: right;\">  6</td><td style=\"text-align: right;\">  8</td></tr>\n",
       "<tr><td>Cherry   </td><td style=\"text-align: right;\"> 19</td><td style=\"text-align: right;\"> 47</td><td style=\"text-align: right;\"> 29</td></tr>\n",
       "<tr><td>Total    </td><td style=\"text-align: right;\">100</td><td style=\"text-align: right;\">100</td><td style=\"text-align: right;\">100</td></tr>\n",
       "</tbody>\n",
       "</table>"
      ],
      "text/plain": [
       "'<table>\\n<tbody>\\n<tr><td>Reel #   </td><td style=\"text-align: right;\">  0</td><td style=\"text-align: right;\">  1</td><td style=\"text-align: right;\">  2</td></tr>\\n<tr><td>5x Whild </td><td style=\"text-align: right;\">  0</td><td style=\"text-align: right;\">  0</td><td style=\"text-align: right;\">  1</td></tr>\\n<tr><td>4x Whild </td><td style=\"text-align: right;\">  0</td><td style=\"text-align: right;\">  1</td><td style=\"text-align: right;\">  0</td></tr>\\n<tr><td>3x Whild </td><td style=\"text-align: right;\">  1</td><td style=\"text-align: right;\">  0</td><td style=\"text-align: right;\">  0</td></tr>\\n<tr><td>2x Whild </td><td style=\"text-align: right;\">  1</td><td style=\"text-align: right;\">  0</td><td style=\"text-align: right;\">  0</td></tr>\\n<tr><td>Red Logo </td><td style=\"text-align: right;\">  2</td><td style=\"text-align: right;\">  4</td><td style=\"text-align: right;\"> 18</td></tr>\\n<tr><td>Blue Logo</td><td style=\"text-align: right;\">  3</td><td style=\"text-align: right;\">  7</td><td style=\"text-align: right;\"> 23</td></tr>\\n<tr><td>Bar 3    </td><td style=\"text-align: right;\">  7</td><td style=\"text-align: right;\">  5</td><td style=\"text-align: right;\"> 15</td></tr>\\n<tr><td>Bar 2    </td><td style=\"text-align: right;\">  7</td><td style=\"text-align: right;\"> 30</td><td style=\"text-align: right;\">  6</td></tr>\\n<tr><td>Bar 1    </td><td style=\"text-align: right;\"> 60</td><td style=\"text-align: right;\">  6</td><td style=\"text-align: right;\">  8</td></tr>\\n<tr><td>Cherry   </td><td style=\"text-align: right;\"> 19</td><td style=\"text-align: right;\"> 47</td><td style=\"text-align: right;\"> 29</td></tr>\\n<tr><td>Total    </td><td style=\"text-align: right;\">100</td><td style=\"text-align: right;\">100</td><td style=\"text-align: right;\">100</td></tr>\\n</tbody>\\n</table>'"
      ]
     },
     "execution_count": 20,
     "metadata": {},
     "output_type": "execute_result"
    }
   ],
   "source": [
    "reels_table()"
   ]
  },
  {
   "cell_type": "code",
   "execution_count": 21,
   "id": "ef27ba1e-2449-4ba4-bc2b-20e4aae74a55",
   "metadata": {},
   "outputs": [
    {
     "data": {
      "text/html": [
       "<table>\n",
       "<tbody>\n",
       "<tr><td>Payout Type</td><td>Payout  </td></tr>\n",
       "<tr><td>Three Wilds</td><td>30000   </td></tr>\n",
       "<tr><td>Red Logo   </td><td>118800  </td></tr>\n",
       "<tr><td>Blue Logo  </td><td>118200  </td></tr>\n",
       "<tr><td>Bar 3      </td><td>82400   </td></tr>\n",
       "<tr><td>Bar 2      </td><td>87760   </td></tr>\n",
       "<tr><td>Bar 1      </td><td>83500   </td></tr>\n",
       "<tr><td>Cherry     </td><td>249096  </td></tr>\n",
       "<tr><td>Mixed Logos</td><td>12992   </td></tr>\n",
       "<tr><td>Mixed Bars </td><td>211944  </td></tr>\n",
       "<tr><td>           </td><td>        </td></tr>\n",
       "<tr><td>RTP        </td><td>0.994692</td></tr>\n",
       "</tbody>\n",
       "</table>"
      ],
      "text/plain": [
       "'<table>\\n<tbody>\\n<tr><td>Payout Type</td><td>Payout  </td></tr>\\n<tr><td>Three Wilds</td><td>30000   </td></tr>\\n<tr><td>Red Logo   </td><td>118800  </td></tr>\\n<tr><td>Blue Logo  </td><td>118200  </td></tr>\\n<tr><td>Bar 3      </td><td>82400   </td></tr>\\n<tr><td>Bar 2      </td><td>87760   </td></tr>\\n<tr><td>Bar 1      </td><td>83500   </td></tr>\\n<tr><td>Cherry     </td><td>249096  </td></tr>\\n<tr><td>Mixed Logos</td><td>12992   </td></tr>\\n<tr><td>Mixed Bars </td><td>211944  </td></tr>\\n<tr><td>           </td><td>        </td></tr>\\n<tr><td>RTP        </td><td>0.994692</td></tr>\\n</tbody>\\n</table>'"
      ]
     },
     "execution_count": 21,
     "metadata": {},
     "output_type": "execute_result"
    }
   ],
   "source": [
    "results_table()"
   ]
  },
  {
   "cell_type": "code",
   "execution_count": null,
   "id": "f9a94cc1-a758-4b55-b4b2-e4c9466a70a5",
   "metadata": {},
   "outputs": [],
   "source": []
  },
  {
   "cell_type": "markdown",
   "id": "0fae727e-4b68-4a4c-a570-62b55bd7ba31",
   "metadata": {},
   "source": [
    "After a lot of tweaking and fine-tuning, I brought the RTP to 99.47%. This is much harder than I expected it to be. But this is an eye-opening exercise. Changing a symbol on the reel to another decreases the payout of one type of combo, but increases the payout of another. It is interesting to play around the reels table while trying to make the overall payout to stay within the budget."
   ]
  },
  {
   "cell_type": "markdown",
   "id": "7cc17b41-737d-4f3e-8bcb-9c628541e4d3",
   "metadata": {},
   "source": [
    "Anyway, here is my first analysis of a slots game. If I am going to do another analysis again, I would probably write a couple of helper functions that tells me the effect of adding or removing a symbol on the payout budget. This would say a lot of time for tweaking the numbers to find the right amount of symbols on each reel."
   ]
  },
  {
   "cell_type": "code",
   "execution_count": null,
   "id": "8af8cc4d-b0f2-492c-94aa-bf8d116de7c9",
   "metadata": {},
   "outputs": [],
   "source": []
  }
 ],
 "metadata": {
  "kernelspec": {
   "display_name": "Python 3 (ipykernel)",
   "language": "python",
   "name": "python3"
  },
  "language_info": {
   "codemirror_mode": {
    "name": "ipython",
    "version": 3
   },
   "file_extension": ".py",
   "mimetype": "text/x-python",
   "name": "python",
   "nbconvert_exporter": "python",
   "pygments_lexer": "ipython3",
   "version": "3.11.7"
  }
 },
 "nbformat": 4,
 "nbformat_minor": 5
}
